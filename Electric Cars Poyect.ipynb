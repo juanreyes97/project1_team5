{
 "cells": [
  {
   "cell_type": "code",
   "execution_count": 1,
   "id": "85b30f28",
   "metadata": {},
   "outputs": [],
   "source": [
    "import numpy as np\n",
    "import pandas as pd\n",
    "import matplotlib.pyplot as plt\n",
    "import os"
   ]
  },
  {
   "cell_type": "code",
   "execution_count": 2,
   "id": "7e95a8f7",
   "metadata": {
    "collapsed": true
   },
   "outputs": [
    {
     "data": {
      "text/html": [
       "<div>\n",
       "<style scoped>\n",
       "    .dataframe tbody tr th:only-of-type {\n",
       "        vertical-align: middle;\n",
       "    }\n",
       "\n",
       "    .dataframe tbody tr th {\n",
       "        vertical-align: top;\n",
       "    }\n",
       "\n",
       "    .dataframe thead th {\n",
       "        text-align: right;\n",
       "    }\n",
       "</style>\n",
       "<table border=\"1\" class=\"dataframe\">\n",
       "  <thead>\n",
       "    <tr style=\"text-align: right;\">\n",
       "      <th></th>\n",
       "      <th>Name</th>\n",
       "      <th>Subtitle</th>\n",
       "      <th>Acceleration</th>\n",
       "      <th>TopSpeed</th>\n",
       "      <th>Range</th>\n",
       "      <th>Efficiency</th>\n",
       "      <th>FastChargeSpeed</th>\n",
       "      <th>Drive</th>\n",
       "      <th>NumberofSeats</th>\n",
       "      <th>PriceinGermany</th>\n",
       "      <th>PriceinUK</th>\n",
       "    </tr>\n",
       "  </thead>\n",
       "  <tbody>\n",
       "    <tr>\n",
       "      <th>0</th>\n",
       "      <td>Opel Ampera-e</td>\n",
       "      <td>Battery Electric Vehicle |       58 kWh</td>\n",
       "      <td>7.3 sec</td>\n",
       "      <td>150 km/h</td>\n",
       "      <td>335 km</td>\n",
       "      <td>173 Wh/km</td>\n",
       "      <td>210 km/h</td>\n",
       "      <td>Front Wheel Drive</td>\n",
       "      <td>5</td>\n",
       "      <td>€42,990</td>\n",
       "      <td>NaN</td>\n",
       "    </tr>\n",
       "    <tr>\n",
       "      <th>1</th>\n",
       "      <td>Renault Kangoo Maxi ZE 33</td>\n",
       "      <td>Battery Electric Vehicle |       31 kWh</td>\n",
       "      <td>22.4 sec</td>\n",
       "      <td>130 km/h</td>\n",
       "      <td>160 km</td>\n",
       "      <td>194 Wh/km</td>\n",
       "      <td>-</td>\n",
       "      <td>Front Wheel Drive</td>\n",
       "      <td>5</td>\n",
       "      <td>NaN</td>\n",
       "      <td>£31,680</td>\n",
       "    </tr>\n",
       "    <tr>\n",
       "      <th>2</th>\n",
       "      <td>Nissan Leaf</td>\n",
       "      <td>Battery Electric Vehicle |       36 kWh</td>\n",
       "      <td>7.9 sec</td>\n",
       "      <td>144 km/h</td>\n",
       "      <td>220 km</td>\n",
       "      <td>164 Wh/km</td>\n",
       "      <td>230 km/h</td>\n",
       "      <td>Front Wheel Drive</td>\n",
       "      <td>5</td>\n",
       "      <td>€29,990</td>\n",
       "      <td>£25,995</td>\n",
       "    </tr>\n",
       "    <tr>\n",
       "      <th>3</th>\n",
       "      <td>Audi e-tron Sportback 55 quattro</td>\n",
       "      <td>Battery Electric Vehicle |       86.5 kWh</td>\n",
       "      <td>5.7 sec</td>\n",
       "      <td>200 km/h</td>\n",
       "      <td>375 km</td>\n",
       "      <td>231 Wh/km</td>\n",
       "      <td>600 km/h</td>\n",
       "      <td>All Wheel Drive</td>\n",
       "      <td>5</td>\n",
       "      <td>NaN</td>\n",
       "      <td>£79,900</td>\n",
       "    </tr>\n",
       "    <tr>\n",
       "      <th>4</th>\n",
       "      <td>Porsche Taycan Turbo S</td>\n",
       "      <td>Battery Electric Vehicle |       83.7 kWh</td>\n",
       "      <td>2.8 sec</td>\n",
       "      <td>260 km/h</td>\n",
       "      <td>390 km</td>\n",
       "      <td>215 Wh/km</td>\n",
       "      <td>860 km/h</td>\n",
       "      <td>All Wheel Drive</td>\n",
       "      <td>4</td>\n",
       "      <td>€186,336</td>\n",
       "      <td>£138,830</td>\n",
       "    </tr>\n",
       "  </tbody>\n",
       "</table>\n",
       "</div>"
      ],
      "text/plain": [
       "                               Name  \\\n",
       "0                    Opel Ampera-e    \n",
       "1         Renault Kangoo Maxi ZE 33   \n",
       "2                      Nissan Leaf    \n",
       "3  Audi e-tron Sportback 55 quattro   \n",
       "4            Porsche Taycan Turbo S   \n",
       "\n",
       "                                    Subtitle Acceleration  TopSpeed   Range  \\\n",
       "0   Battery Electric Vehicle |       58 kWh       7.3 sec  150 km/h  335 km   \n",
       "1   Battery Electric Vehicle |       31 kWh      22.4 sec  130 km/h  160 km   \n",
       "2   Battery Electric Vehicle |       36 kWh       7.9 sec  144 km/h  220 km   \n",
       "3  Battery Electric Vehicle |       86.5 kWh      5.7 sec  200 km/h  375 km   \n",
       "4  Battery Electric Vehicle |       83.7 kWh      2.8 sec  260 km/h  390 km   \n",
       "\n",
       "  Efficiency FastChargeSpeed              Drive  NumberofSeats PriceinGermany  \\\n",
       "0  173 Wh/km        210 km/h  Front Wheel Drive              5        €42,990   \n",
       "1  194 Wh/km               -  Front Wheel Drive              5            NaN   \n",
       "2  164 Wh/km        230 km/h  Front Wheel Drive              5        €29,990   \n",
       "3  231 Wh/km        600 km/h    All Wheel Drive              5            NaN   \n",
       "4  215 Wh/km        860 km/h    All Wheel Drive              4       €186,336   \n",
       "\n",
       "  PriceinUK  \n",
       "0       NaN  \n",
       "1   £31,680  \n",
       "2   £25,995  \n",
       "3   £79,900  \n",
       "4  £138,830  "
      ]
     },
     "execution_count": 2,
     "metadata": {},
     "output_type": "execute_result"
    }
   ],
   "source": [
    "ecar_df = pd.read_csv(\"./Database/Cheapestelectriccars-EVDatabase.csv\")\n",
    "ecar_df.head()"
   ]
  },
  {
   "cell_type": "code",
   "execution_count": 3,
   "id": "ba0a10fc",
   "metadata": {
    "collapsed": true
   },
   "outputs": [
    {
     "name": "stdout",
     "output_type": "stream",
     "text": [
      "['Name', 'Subtitle', 'Acceleration', 'TopSpeed', 'Range', 'Efficiency', 'FastChargeSpeed', 'Drive', 'NumberofSeats', 'PriceinGermany', 'PriceinUK']\n"
     ]
    }
   ],
   "source": [
    "print(ecar_df.columns.tolist())"
   ]
  },
  {
   "cell_type": "code",
   "execution_count": 4,
   "id": "5921846e",
   "metadata": {},
   "outputs": [],
   "source": [
    "#Clean the blank spaces\n",
    "ecar_df = ecar_df.fillna('0')\n",
    "#Create a new column\n",
    "ecar_df.insert(loc=0, column=\"Manufacturer\", value=ecar_df.Name.str.split(' ', n=1, expand=True)[0])"
   ]
  },
  {
   "cell_type": "code",
   "execution_count": 5,
   "id": "4ec7b687",
   "metadata": {
    "collapsed": true
   },
   "outputs": [
    {
     "data": {
      "text/plain": [
       "Manufacturer       object\n",
       "Name               object\n",
       "Subtitle           object\n",
       "Acceleration       object\n",
       "TopSpeed           object\n",
       "Range              object\n",
       "Efficiency         object\n",
       "FastChargeSpeed    object\n",
       "Drive              object\n",
       "NumberofSeats       int64\n",
       "PriceinGermany     object\n",
       "PriceinUK          object\n",
       "dtype: object"
      ]
     },
     "execution_count": 5,
     "metadata": {},
     "output_type": "execute_result"
    }
   ],
   "source": [
    "ecar_df.dtypes"
   ]
  },
  {
   "cell_type": "code",
   "execution_count": 6,
   "id": "ec0db41d",
   "metadata": {},
   "outputs": [],
   "source": [
    "#Subtitle column\n",
    "Subtitle=[]\n",
    "for item in ecar_df['Subtitle']:\n",
    "    Subtitle.append(float(item.replace('Battery Electric Vehicle | ','').replace(' kWh','').replace('      ','')))\n",
    "ecar_df['Subtitle']=Subtitle"
   ]
  },
  {
   "cell_type": "code",
   "execution_count": 7,
   "id": "0ac61f4c",
   "metadata": {},
   "outputs": [],
   "source": [
    "#Acceleration column\n",
    "Acceleration=[]\n",
    "for item in ecar_df['Acceleration']:\n",
    "    Acceleration.append(float(item.replace(' sec','')))\n",
    "ecar_df['Acceleration']=Acceleration"
   ]
  },
  {
   "cell_type": "code",
   "execution_count": 8,
   "id": "35ca1d37",
   "metadata": {},
   "outputs": [],
   "source": [
    "#TopSpeed column\n",
    "TopSpeed=[]\n",
    "for item in ecar_df['TopSpeed']:\n",
    "    TopSpeed.append(int(item.replace(' km/h','')))\n",
    "ecar_df['TopSpeed']=TopSpeed"
   ]
  },
  {
   "cell_type": "code",
   "execution_count": 9,
   "id": "3a518d8c",
   "metadata": {},
   "outputs": [],
   "source": [
    "#Range column\n",
    "Range=[]\n",
    "for item in ecar_df['Range']:\n",
    "    Range.append(int(item.replace(' km','')))\n",
    "ecar_df['Range']=Range"
   ]
  },
  {
   "cell_type": "code",
   "execution_count": 10,
   "id": "c6a6f64f",
   "metadata": {},
   "outputs": [],
   "source": [
    "#Efficiency column\n",
    "Efficiency=[]\n",
    "for item in ecar_df['Efficiency']:\n",
    "    Efficiency.append(int(item.replace(' Wh/km','')))\n",
    "ecar_df['Efficiency']=Efficiency"
   ]
  },
  {
   "cell_type": "code",
   "execution_count": 11,
   "id": "b529eb2f",
   "metadata": {},
   "outputs": [],
   "source": [
    "#FastChargeSpeed column\n",
    "FastChargeSpeed=[]\n",
    "for item in ecar_df['FastChargeSpeed']:\n",
    "    FastChargeSpeed.append(int(item.replace(' km/h','').replace('-','0')))\n",
    "ecar_df['FastChargeSpeed']=FastChargeSpeed"
   ]
  },
  {
   "cell_type": "code",
   "execution_count": 12,
   "id": "b62ef110",
   "metadata": {},
   "outputs": [],
   "source": [
    "#Clean dataframe\n",
    "#Remove currency signs\n",
    "PriceinUK=[]\n",
    "for item in ecar_df['PriceinUK']:\n",
    "    PriceinUK.append(int(item.replace('£','').replace(',','')))\n",
    "ecar_df['PriceinUK']=PriceinUK\n",
    "\n",
    "PriceinGermany=[]\n",
    "for item in ecar_df['PriceinGermany']:\n",
    "    PriceinGermany.append(int(item.replace('€','').replace(',','')))\n",
    "ecar_df['PriceinGermany']=PriceinGermany"
   ]
  },
  {
   "cell_type": "code",
   "execution_count": 13,
   "id": "987cad29",
   "metadata": {
    "collapsed": true
   },
   "outputs": [
    {
     "data": {
      "text/html": [
       "<div>\n",
       "<style scoped>\n",
       "    .dataframe tbody tr th:only-of-type {\n",
       "        vertical-align: middle;\n",
       "    }\n",
       "\n",
       "    .dataframe tbody tr th {\n",
       "        vertical-align: top;\n",
       "    }\n",
       "\n",
       "    .dataframe thead th {\n",
       "        text-align: right;\n",
       "    }\n",
       "</style>\n",
       "<table border=\"1\" class=\"dataframe\">\n",
       "  <thead>\n",
       "    <tr style=\"text-align: right;\">\n",
       "      <th></th>\n",
       "      <th>Manufacturer</th>\n",
       "      <th>Model</th>\n",
       "      <th>Subtitle(kWh)</th>\n",
       "      <th>Acceleration(sec)</th>\n",
       "      <th>TopSpeed (km/h)</th>\n",
       "      <th>Range(km)</th>\n",
       "      <th>Efficiency(Wh/km)</th>\n",
       "      <th>FastChargeSpeed(km/h)</th>\n",
       "      <th>Drive</th>\n",
       "      <th>NumberofSeats</th>\n",
       "      <th>Pricein€</th>\n",
       "      <th>Pricein£</th>\n",
       "    </tr>\n",
       "  </thead>\n",
       "  <tbody>\n",
       "    <tr>\n",
       "      <th>0</th>\n",
       "      <td>Opel</td>\n",
       "      <td>Opel Ampera-e</td>\n",
       "      <td>58.0</td>\n",
       "      <td>7.3</td>\n",
       "      <td>150</td>\n",
       "      <td>335</td>\n",
       "      <td>173</td>\n",
       "      <td>210</td>\n",
       "      <td>Front Wheel Drive</td>\n",
       "      <td>5</td>\n",
       "      <td>42990</td>\n",
       "      <td>0</td>\n",
       "    </tr>\n",
       "    <tr>\n",
       "      <th>1</th>\n",
       "      <td>Renault</td>\n",
       "      <td>Renault Kangoo Maxi ZE 33</td>\n",
       "      <td>31.0</td>\n",
       "      <td>22.4</td>\n",
       "      <td>130</td>\n",
       "      <td>160</td>\n",
       "      <td>194</td>\n",
       "      <td>0</td>\n",
       "      <td>Front Wheel Drive</td>\n",
       "      <td>5</td>\n",
       "      <td>0</td>\n",
       "      <td>31680</td>\n",
       "    </tr>\n",
       "    <tr>\n",
       "      <th>2</th>\n",
       "      <td>Nissan</td>\n",
       "      <td>Nissan Leaf</td>\n",
       "      <td>36.0</td>\n",
       "      <td>7.9</td>\n",
       "      <td>144</td>\n",
       "      <td>220</td>\n",
       "      <td>164</td>\n",
       "      <td>230</td>\n",
       "      <td>Front Wheel Drive</td>\n",
       "      <td>5</td>\n",
       "      <td>29990</td>\n",
       "      <td>25995</td>\n",
       "    </tr>\n",
       "    <tr>\n",
       "      <th>3</th>\n",
       "      <td>Audi</td>\n",
       "      <td>Audi e-tron Sportback 55 quattro</td>\n",
       "      <td>86.5</td>\n",
       "      <td>5.7</td>\n",
       "      <td>200</td>\n",
       "      <td>375</td>\n",
       "      <td>231</td>\n",
       "      <td>600</td>\n",
       "      <td>All Wheel Drive</td>\n",
       "      <td>5</td>\n",
       "      <td>0</td>\n",
       "      <td>79900</td>\n",
       "    </tr>\n",
       "    <tr>\n",
       "      <th>4</th>\n",
       "      <td>Porsche</td>\n",
       "      <td>Porsche Taycan Turbo S</td>\n",
       "      <td>83.7</td>\n",
       "      <td>2.8</td>\n",
       "      <td>260</td>\n",
       "      <td>390</td>\n",
       "      <td>215</td>\n",
       "      <td>860</td>\n",
       "      <td>All Wheel Drive</td>\n",
       "      <td>4</td>\n",
       "      <td>186336</td>\n",
       "      <td>138830</td>\n",
       "    </tr>\n",
       "  </tbody>\n",
       "</table>\n",
       "</div>"
      ],
      "text/plain": [
       "  Manufacturer                             Model  Subtitle(kWh)  \\\n",
       "0         Opel                    Opel Ampera-e            58.0   \n",
       "1      Renault         Renault Kangoo Maxi ZE 33           31.0   \n",
       "2       Nissan                      Nissan Leaf            36.0   \n",
       "3         Audi  Audi e-tron Sportback 55 quattro           86.5   \n",
       "4      Porsche            Porsche Taycan Turbo S           83.7   \n",
       "\n",
       "   Acceleration(sec)  TopSpeed (km/h)  Range(km)  Efficiency(Wh/km)  \\\n",
       "0                7.3              150        335                173   \n",
       "1               22.4              130        160                194   \n",
       "2                7.9              144        220                164   \n",
       "3                5.7              200        375                231   \n",
       "4                2.8              260        390                215   \n",
       "\n",
       "   FastChargeSpeed(km/h)              Drive  NumberofSeats  Pricein€  Pricein£  \n",
       "0                    210  Front Wheel Drive              5     42990         0  \n",
       "1                      0  Front Wheel Drive              5         0     31680  \n",
       "2                    230  Front Wheel Drive              5     29990     25995  \n",
       "3                    600    All Wheel Drive              5         0     79900  \n",
       "4                    860    All Wheel Drive              4    186336    138830  "
      ]
     },
     "execution_count": 13,
     "metadata": {},
     "output_type": "execute_result"
    }
   ],
   "source": [
    "ecar_df = ecar_df.rename(columns={'Name':'Model',\n",
    "                                  'Subtitle':'Subtitle(kWh)',\n",
    "                                  'Acceleration':'Acceleration(sec)',\n",
    "                                  'TopSpeed':'TopSpeed (km/h)',\n",
    "                                  'Range':'Range(km)',\n",
    "                                  'Efficiency':'Efficiency(Wh/km)',\n",
    "                                  'FastChargeSpeed':'FastChargeSpeed(km/h)',\n",
    "                                  'PriceinGermany':'Pricein€',\n",
    "                                  'PriceinUK':'Pricein£'\n",
    "                                 })\n",
    "ecar_df.head()"
   ]
  },
  {
   "cell_type": "code",
   "execution_count": null,
   "id": "777c0d9b",
   "metadata": {},
   "outputs": [],
   "source": []
  }
 ],
 "metadata": {
  "kernelspec": {
   "display_name": "Python 3 (ipykernel)",
   "language": "python",
   "name": "python3"
  },
  "language_info": {
   "codemirror_mode": {
    "name": "ipython",
    "version": 3
   },
   "file_extension": ".py",
   "mimetype": "text/x-python",
   "name": "python",
   "nbconvert_exporter": "python",
   "pygments_lexer": "ipython3",
   "version": "3.10.9"
  }
 },
 "nbformat": 4,
 "nbformat_minor": 5
}
